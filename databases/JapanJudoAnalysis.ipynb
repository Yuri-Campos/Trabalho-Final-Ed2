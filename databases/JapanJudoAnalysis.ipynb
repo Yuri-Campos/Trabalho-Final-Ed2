{
  "nbformat": 4,
  "nbformat_minor": 0,
  "metadata": {
    "colab": {
      "provenance": []
    },
    "kernelspec": {
      "name": "python3",
      "display_name": "Python 3"
    },
    "language_info": {
      "name": "python"
    }
  },
  "cells": [
    {
      "cell_type": "code",
      "execution_count": 105,
      "metadata": {
        "id": "HH_TQ8qoSqBh"
      },
      "outputs": [],
      "source": [
        "import pandas as pd"
      ]
    },
    {
      "cell_type": "code",
      "source": [
        "original_cols = ['Year','Discipline', 'Country', 'Medal']\n",
        "encoding='latin-1'\n",
        "\n",
        "df = pd.read_csv('summerOlympics.csv', usecols=original_cols, encoding=encoding )"
      ],
      "metadata": {
        "id": "L0EYvbFrTMAp"
      },
      "execution_count": 106,
      "outputs": []
    },
    {
      "cell_type": "code",
      "source": [
        "df.head()"
      ],
      "metadata": {
        "colab": {
          "base_uri": "https://localhost:8080/",
          "height": 206
        },
        "id": "r5NEgeXPTbVb",
        "outputId": "bd76a4fe-971f-4a35-e6c8-9838a9e0b075"
      },
      "execution_count": 107,
      "outputs": [
        {
          "output_type": "execute_result",
          "data": {
            "text/plain": [
              "     Year Discipline        Country   Medal\n",
              "0  1976.0     Diving   East Germany  Silver\n",
              "1  1976.0     Diving   Soviet Union  Bronze\n",
              "2  1976.0     Diving  United States    Gold\n",
              "3  1976.0     Diving          Italy  Silver\n",
              "4  1976.0     Diving  United States  Bronze"
            ],
            "text/html": [
              "\n",
              "  <div id=\"df-3bfffd9b-0c53-4e32-8c70-3fc63772fac9\">\n",
              "    <div class=\"colab-df-container\">\n",
              "      <div>\n",
              "<style scoped>\n",
              "    .dataframe tbody tr th:only-of-type {\n",
              "        vertical-align: middle;\n",
              "    }\n",
              "\n",
              "    .dataframe tbody tr th {\n",
              "        vertical-align: top;\n",
              "    }\n",
              "\n",
              "    .dataframe thead th {\n",
              "        text-align: right;\n",
              "    }\n",
              "</style>\n",
              "<table border=\"1\" class=\"dataframe\">\n",
              "  <thead>\n",
              "    <tr style=\"text-align: right;\">\n",
              "      <th></th>\n",
              "      <th>Year</th>\n",
              "      <th>Discipline</th>\n",
              "      <th>Country</th>\n",
              "      <th>Medal</th>\n",
              "    </tr>\n",
              "  </thead>\n",
              "  <tbody>\n",
              "    <tr>\n",
              "      <th>0</th>\n",
              "      <td>1976.0</td>\n",
              "      <td>Diving</td>\n",
              "      <td>East Germany</td>\n",
              "      <td>Silver</td>\n",
              "    </tr>\n",
              "    <tr>\n",
              "      <th>1</th>\n",
              "      <td>1976.0</td>\n",
              "      <td>Diving</td>\n",
              "      <td>Soviet Union</td>\n",
              "      <td>Bronze</td>\n",
              "    </tr>\n",
              "    <tr>\n",
              "      <th>2</th>\n",
              "      <td>1976.0</td>\n",
              "      <td>Diving</td>\n",
              "      <td>United States</td>\n",
              "      <td>Gold</td>\n",
              "    </tr>\n",
              "    <tr>\n",
              "      <th>3</th>\n",
              "      <td>1976.0</td>\n",
              "      <td>Diving</td>\n",
              "      <td>Italy</td>\n",
              "      <td>Silver</td>\n",
              "    </tr>\n",
              "    <tr>\n",
              "      <th>4</th>\n",
              "      <td>1976.0</td>\n",
              "      <td>Diving</td>\n",
              "      <td>United States</td>\n",
              "      <td>Bronze</td>\n",
              "    </tr>\n",
              "  </tbody>\n",
              "</table>\n",
              "</div>\n",
              "      <button class=\"colab-df-convert\" onclick=\"convertToInteractive('df-3bfffd9b-0c53-4e32-8c70-3fc63772fac9')\"\n",
              "              title=\"Convert this dataframe to an interactive table.\"\n",
              "              style=\"display:none;\">\n",
              "        \n",
              "  <svg xmlns=\"http://www.w3.org/2000/svg\" height=\"24px\"viewBox=\"0 0 24 24\"\n",
              "       width=\"24px\">\n",
              "    <path d=\"M0 0h24v24H0V0z\" fill=\"none\"/>\n",
              "    <path d=\"M18.56 5.44l.94 2.06.94-2.06 2.06-.94-2.06-.94-.94-2.06-.94 2.06-2.06.94zm-11 1L8.5 8.5l.94-2.06 2.06-.94-2.06-.94L8.5 2.5l-.94 2.06-2.06.94zm10 10l.94 2.06.94-2.06 2.06-.94-2.06-.94-.94-2.06-.94 2.06-2.06.94z\"/><path d=\"M17.41 7.96l-1.37-1.37c-.4-.4-.92-.59-1.43-.59-.52 0-1.04.2-1.43.59L10.3 9.45l-7.72 7.72c-.78.78-.78 2.05 0 2.83L4 21.41c.39.39.9.59 1.41.59.51 0 1.02-.2 1.41-.59l7.78-7.78 2.81-2.81c.8-.78.8-2.07 0-2.86zM5.41 20L4 18.59l7.72-7.72 1.47 1.35L5.41 20z\"/>\n",
              "  </svg>\n",
              "      </button>\n",
              "      \n",
              "  <style>\n",
              "    .colab-df-container {\n",
              "      display:flex;\n",
              "      flex-wrap:wrap;\n",
              "      gap: 12px;\n",
              "    }\n",
              "\n",
              "    .colab-df-convert {\n",
              "      background-color: #E8F0FE;\n",
              "      border: none;\n",
              "      border-radius: 50%;\n",
              "      cursor: pointer;\n",
              "      display: none;\n",
              "      fill: #1967D2;\n",
              "      height: 32px;\n",
              "      padding: 0 0 0 0;\n",
              "      width: 32px;\n",
              "    }\n",
              "\n",
              "    .colab-df-convert:hover {\n",
              "      background-color: #E2EBFA;\n",
              "      box-shadow: 0px 1px 2px rgba(60, 64, 67, 0.3), 0px 1px 3px 1px rgba(60, 64, 67, 0.15);\n",
              "      fill: #174EA6;\n",
              "    }\n",
              "\n",
              "    [theme=dark] .colab-df-convert {\n",
              "      background-color: #3B4455;\n",
              "      fill: #D2E3FC;\n",
              "    }\n",
              "\n",
              "    [theme=dark] .colab-df-convert:hover {\n",
              "      background-color: #434B5C;\n",
              "      box-shadow: 0px 1px 3px 1px rgba(0, 0, 0, 0.15);\n",
              "      filter: drop-shadow(0px 1px 2px rgba(0, 0, 0, 0.3));\n",
              "      fill: #FFFFFF;\n",
              "    }\n",
              "  </style>\n",
              "\n",
              "      <script>\n",
              "        const buttonEl =\n",
              "          document.querySelector('#df-3bfffd9b-0c53-4e32-8c70-3fc63772fac9 button.colab-df-convert');\n",
              "        buttonEl.style.display =\n",
              "          google.colab.kernel.accessAllowed ? 'block' : 'none';\n",
              "\n",
              "        async function convertToInteractive(key) {\n",
              "          const element = document.querySelector('#df-3bfffd9b-0c53-4e32-8c70-3fc63772fac9');\n",
              "          const dataTable =\n",
              "            await google.colab.kernel.invokeFunction('convertToInteractive',\n",
              "                                                     [key], {});\n",
              "          if (!dataTable) return;\n",
              "\n",
              "          const docLinkHtml = 'Like what you see? Visit the ' +\n",
              "            '<a target=\"_blank\" href=https://colab.research.google.com/notebooks/data_table.ipynb>data table notebook</a>'\n",
              "            + ' to learn more about interactive tables.';\n",
              "          element.innerHTML = '';\n",
              "          dataTable['output_type'] = 'display_data';\n",
              "          await google.colab.output.renderOutput(dataTable, element);\n",
              "          const docLink = document.createElement('div');\n",
              "          docLink.innerHTML = docLinkHtml;\n",
              "          element.appendChild(docLink);\n",
              "        }\n",
              "      </script>\n",
              "    </div>\n",
              "  </div>\n",
              "  "
            ]
          },
          "metadata": {},
          "execution_count": 107
        }
      ]
    },
    {
      "cell_type": "code",
      "source": [
        "#funcs\n",
        "\n",
        "def somar(ouro, prata, bronze):\n",
        "  return ouro + prata + bronze;\n",
        "\n",
        "def somaMedalhas(dataFrame):\n",
        "  ouro = 0\n",
        "  prata = 0\n",
        "  bronze = 0\n",
        "  for x in dataFrame.Medal:\n",
        "    if(x == 'Gold'):\n",
        "      ouro += 1;\n",
        "    elif(x == 'Silver'):\n",
        "      prata += 1;\n",
        "    elif(x == 'Bronze'):\n",
        "      bronze += 1;\n",
        "\n",
        "  res = [ouro, prata, bronze]\n",
        "  return res\n",
        "\n",
        "def filtraPorPais(colCountry, colOther, country, param, dataFrame):\n",
        "  dfFiltrado = dataFrame[(dataFrame[colCountry] == country) & (dataFrame[colOther] == param) ]\n",
        "  return dfFiltrado\n",
        "\n",
        "def filtraPorModalidade(colDis, discipline, dataFrame):\n",
        "  dfFiltrado = dataFrame[(dataFrame[colDis] == discipline) ]\n",
        "  return dfFiltrado\n",
        "\n",
        "def media(ouro, prata, bronze, total):\n",
        "  media = somar(ouro, prata, bronze) / total\n",
        "  return media * 100\n",
        "\n"
      ],
      "metadata": {
        "id": "gQ47lfaWZfkL"
      },
      "execution_count": 108,
      "outputs": []
    },
    {
      "cell_type": "code",
      "source": [
        "dfJudoJap = filtraPorPais('Country', 'Discipline', 'Japan', 'Judo', df)"
      ],
      "metadata": {
        "id": "JzXHC3xuUAVY"
      },
      "execution_count": 109,
      "outputs": []
    },
    {
      "cell_type": "code",
      "source": [
        "dfJudoEUA = filtraPorPais('Country', 'Discipline', 'United States', 'Judo', df)"
      ],
      "metadata": {
        "id": "SpTYbES7h545"
      },
      "execution_count": 110,
      "outputs": []
    },
    {
      "cell_type": "code",
      "source": [
        "dfJudoBRA = filtraPorPais('Country', 'Discipline', 'Brazil', 'Judo', df)"
      ],
      "metadata": {
        "id": "ywbTWKabkOhE"
      },
      "execution_count": 111,
      "outputs": []
    },
    {
      "cell_type": "code",
      "source": [
        "dfJudoGeral = filtraPorModalidade('Discipline', 'Judo', df)"
      ],
      "metadata": {
        "id": "EnQ-k-ilYkRH"
      },
      "execution_count": 112,
      "outputs": []
    },
    {
      "cell_type": "code",
      "source": [
        "ouroTot, prataTot, bronzeTot = somaMedalhas(dfJudoGeral)"
      ],
      "metadata": {
        "id": "44pkcPpnZf0X"
      },
      "execution_count": 113,
      "outputs": []
    },
    {
      "cell_type": "code",
      "source": [
        "total = somar(ouroTot, prataTot, bronzeTot)"
      ],
      "metadata": {
        "id": "IQNqFKxTlhP7"
      },
      "execution_count": 114,
      "outputs": []
    },
    {
      "cell_type": "code",
      "source": [
        "ouroJap, prataJap, bronzeJap = somaMedalhas(dfJudoJap)"
      ],
      "metadata": {
        "id": "51xkpEVochVq"
      },
      "execution_count": 115,
      "outputs": []
    },
    {
      "cell_type": "code",
      "source": [
        "ouroEUA, prataEUA, bronzeEUA = somaMedalhas(dfJudoEUA)"
      ],
      "metadata": {
        "id": "ShPfm8uciXVV"
      },
      "execution_count": 116,
      "outputs": []
    },
    {
      "cell_type": "code",
      "source": [
        "ouroBra, prataBra, bronzeBra = somaMedalhas(dfJudoBRA)"
      ],
      "metadata": {
        "id": "6jtua_i_kZso"
      },
      "execution_count": 117,
      "outputs": []
    },
    {
      "cell_type": "code",
      "source": [
        "print('Medalhas judo:                              ', 'Medalhas Geral:')\n",
        "print('Ouro: ', ouroJap, '                           Ouro:', ouroTot)\n",
        "print('Orata:', prataJap,'                           Prata:', prataTot)\n",
        "print('Bronze:', bronzeJap,'                          Bronze:', bronzeTot)\n",
        "print('total:', somar(ouroJap, prataJap, bronzeJap),'                          Total:', somar(ouroTot, prataTot, bronzeTot))"
      ],
      "metadata": {
        "colab": {
          "base_uri": "https://localhost:8080/"
        },
        "id": "aLOAD_BZdRAR",
        "outputId": "10a410f1-ce96-4cb8-b4a0-a88923e90c3c"
      },
      "execution_count": 118,
      "outputs": [
        {
          "output_type": "stream",
          "name": "stdout",
          "text": [
            "Medalhas judo:                               Medalhas Geral:\n",
            "Ouro:  29                            Ouro: 99\n",
            "Orata: 14                            Prata: 99\n",
            "Bronze: 14                           Bronze: 198\n",
            "total: 57                           Total: 396\n"
          ]
        }
      ]
    },
    {
      "cell_type": "code",
      "source": [
        "mediaJap = media(ouroJap, prataJap, bronzeJap, total) \n",
        "mediaEUA = media(ouroEUA, prataEUA, bronzeEUA, total)\n",
        "mediaBRA = media(ouroBra, prataBra, bronzeBra, total) "
      ],
      "metadata": {
        "id": "nr-xg964eoba"
      },
      "execution_count": 119,
      "outputs": []
    },
    {
      "cell_type": "code",
      "source": [
        "#média em relação ao total de medalhas\n",
        "print('Japão:',\"{:.2f}\".format(mediaJap), 'Estados Unidos:',\"{:.2f}\".format(mediaEUA), 'Brasil:',\"{:.2f}\".format(mediaBRA))"
      ],
      "metadata": {
        "colab": {
          "base_uri": "https://localhost:8080/"
        },
        "id": "HDdsQTAlfK-c",
        "outputId": "1b606d58-7bd4-4c84-b650-1c5774a75874"
      },
      "execution_count": 120,
      "outputs": [
        {
          "output_type": "stream",
          "name": "stdout",
          "text": [
            "Japão: 14.39 Estados Unidos: 2.27 Brasil: 3.54\n"
          ]
        }
      ]
    }
  ]
}