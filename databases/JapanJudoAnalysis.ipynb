{
  "nbformat": 4,
  "nbformat_minor": 0,
  "metadata": {
    "colab": {
      "provenance": []
    },
    "kernelspec": {
      "name": "python3",
      "display_name": "Python 3"
    },
    "language_info": {
      "name": "python"
    }
  },
  "cells": [
    {
      "cell_type": "code",
      "execution_count": 1,
      "metadata": {
        "id": "HH_TQ8qoSqBh"
      },
      "outputs": [],
      "source": [
        "import pandas as pd"
      ]
    },
    {
      "cell_type": "code",
      "source": [
        "original_cols = ['Year','Discipline', 'Country', 'Medal']\n",
        "encoding='latin-1'\n",
        "\n",
        "df = pd.read_csv('summerOlympics.csv', usecols=original_cols, encoding=encoding )"
      ],
      "metadata": {
        "id": "L0EYvbFrTMAp"
      },
      "execution_count": 7,
      "outputs": []
    },
    {
      "cell_type": "code",
      "source": [
        "df.head()"
      ],
      "metadata": {
        "id": "r5NEgeXPTbVb"
      },
      "execution_count": null,
      "outputs": []
    },
    {
      "cell_type": "code",
      "source": [
        "#funcs\n",
        "\n",
        "def somar(ouro, prata, bronze):\n",
        "  return ouro + prata + bronze;\n",
        "\n",
        "def somaMedalhas(dataFrame):\n",
        "  ouro = 0\n",
        "  prata = 0\n",
        "  bronze = 0\n",
        "  for x in dataFrame.Medal:\n",
        "    if(x == 'Gold'):\n",
        "      ouro += 1;\n",
        "    elif(x == 'Silver'):\n",
        "      prata += 1;\n",
        "    elif(x == 'Bronze'):\n",
        "      bronze += 1;\n",
        "\n",
        "  res = [ouro, prata, bronze]\n",
        "  return res\n",
        "\n",
        "def filtraPorPais(colCountry, colOther, country, param, dataFrame):\n",
        "  dfFiltrado = dataFrame[(dataFrame[colCountry] == country) & (dataFrame[colOther] == param) ]\n",
        "  return dfFiltrado\n",
        "\n",
        "def filtraPorModalidade(colDis, discipline, dataFrame):\n",
        "  dfFiltrado = dataFrame[(dataFrame[colDis] == discipline) ]\n",
        "  return dfFiltrado\n",
        "\n",
        "def media(ouro, prata, bronze, total):\n",
        "  media = somar(ouro, prata, bronze) / total\n",
        "  return media * 100\n",
        "\n"
      ],
      "metadata": {
        "id": "gQ47lfaWZfkL"
      },
      "execution_count": 94,
      "outputs": []
    },
    {
      "cell_type": "code",
      "source": [
        "dfJudoJap = filtraPorPais('Country', 'Discipline', 'Japan', 'Judo', df)"
      ],
      "metadata": {
        "id": "JzXHC3xuUAVY"
      },
      "execution_count": 75,
      "outputs": []
    },
    {
      "cell_type": "code",
      "source": [
        "dfJudoEUA = filtraPorPais('Country', 'Discipline', 'United States', 'Judo', df)"
      ],
      "metadata": {
        "id": "SpTYbES7h545"
      },
      "execution_count": 83,
      "outputs": []
    },
    {
      "cell_type": "code",
      "source": [
        "dfJudoBRA = filtraPorPais('Country', 'Discipline', 'Brazil', 'Judo', df)"
      ],
      "metadata": {
        "id": "ywbTWKabkOhE"
      },
      "execution_count": 89,
      "outputs": []
    },
    {
      "cell_type": "code",
      "source": [
        "dfJudoGeral = filtraPorModalidade('Discipline', 'Judo', df)"
      ],
      "metadata": {
        "id": "EnQ-k-ilYkRH"
      },
      "execution_count": 76,
      "outputs": []
    },
    {
      "cell_type": "code",
      "source": [
        "ouroTot, prataTot, bronzeTot = somaMedalhas(dfJudoGeral)"
      ],
      "metadata": {
        "id": "44pkcPpnZf0X"
      },
      "execution_count": 77,
      "outputs": []
    },
    {
      "cell_type": "code",
      "source": [
        "total = somar(ouroTot, prataTot, bronzeTot)"
      ],
      "metadata": {
        "id": "IQNqFKxTlhP7"
      },
      "execution_count": 92,
      "outputs": []
    },
    {
      "cell_type": "code",
      "source": [
        "ouroJap, prataJap, bronzeJap = somaMedalhas(dfJudoJap)"
      ],
      "metadata": {
        "id": "51xkpEVochVq"
      },
      "execution_count": 78,
      "outputs": []
    },
    {
      "cell_type": "code",
      "source": [
        "ouroEUA, prataEUA, bronzeEUA = somaMedalhas(dfJudoEUA)"
      ],
      "metadata": {
        "id": "ShPfm8uciXVV"
      },
      "execution_count": 84,
      "outputs": []
    },
    {
      "cell_type": "code",
      "source": [
        "ouroBra, prataBra, bronzeBra = somaMedalhas(dfJudoBRA)"
      ],
      "metadata": {
        "id": "6jtua_i_kZso"
      },
      "execution_count": 93,
      "outputs": []
    },
    {
      "cell_type": "code",
      "source": [
        "print('Medalhas judo:                              ', 'Medalhas Geral:')\n",
        "print('Ouro: ', ouroJap, '                           Ouro:', ouroTot)\n",
        "print('Orata:', prataJap,'                           Prata:', prataTot)\n",
        "print('Bronze:', bronzeJap,'                          Bronze:', bronzeTot)\n",
        "print('total:', somar(ouroJap, prataJap, bronzeJap),'                          Total:', somar(ouroTot, prataTot, bronzeTot))"
      ],
      "metadata": {
        "id": "aLOAD_BZdRAR"
      },
      "execution_count": null,
      "outputs": []
    },
    {
      "cell_type": "code",
      "source": [
        "mediaJap = media(ouroJap, prataJap, bronzeJap, total) \n",
        "mediaEUA = media(ouroEUA, prataEUA, bronzeEUA, total)\n",
        "mediaBRA = media(ouroBra, prataBra, bronzeBra, total) "
      ],
      "metadata": {
        "id": "nr-xg964eoba"
      },
      "execution_count": 97,
      "outputs": []
    },
    {
      "cell_type": "code",
      "source": [
        "#média em relação ao total de medalhas\n",
        "print('Japão:',\"{:.2f}\".format(mediaJap), 'Estados Unidos:',\"{:.2f}\".format(mediaEUA), 'Brasil:',\"{:.2f}\".format(mediaBRA))"
      ],
      "metadata": {
        "id": "HDdsQTAlfK-c"
      },
      "execution_count": null,
      "outputs": []
    }
  ]
}